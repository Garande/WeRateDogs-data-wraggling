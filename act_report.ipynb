{
 "cells": [
  {
   "cell_type": "code",
   "execution_count": 2,
   "metadata": {},
   "outputs": [],
   "source": [
    "# %pip install nbconvert"
   ]
  },
  {
   "cell_type": "markdown",
   "metadata": {},
   "source": [
    "# Project: Wrangling WeRateDogs Twitter Archive Data\n",
    "\n",
    "## Introduction\n",
    "![WeRateDogs](https://video.udacity-data.com/topher/2017/October/59dd378f_dog-rates-social/dog-rates-social.jpg \"WeRateDogs\")\n",
    "WeRateDogs is a Twitter account that rates people's dogs with a humorous comment about the dog. These ratings almost always have a denominator of 10 and a numerator of always greater than 10.\n",
    "\n",
    "The Enhanced twitter archive file contains  the basic tweet data extracted from 2356 of the 5000+ tweets.\n",
    "\n",
    "The Image prediction file provides information about the brend of dog present in each tweet.\n",
    "\n",
    "The tweet json file contains information queried from the twitter with the help of the tweepy.\n",
    "\n",
    "The datasets have been assessed and cleaned to later create a master dataframe called twitter_archive_master which was saved as a csv for later use. This dataset was also used to answer the following questions in the Exploratory Data Analysis.\n"
   ]
  },
  {
   "cell_type": "markdown",
   "metadata": {},
   "source": [
    "### Question 1: What is the rating distribution?\n",
    "From the histogram below, 50% and 75% of the rating is at 13.0\n",
    "\n",
    "![alt text](rating_distribution.png \"rating_distribution\")"
   ]
  },
  {
   "cell_type": "markdown",
   "metadata": {},
   "source": [
    "### Question 2: What are the common stages?\n",
    "From the below information 'doggo' stage is most classified dog stage\n",
    "\n",
    "![alt text](dog-stages.png \"Dog stages\")"
   ]
  },
  {
   "cell_type": "markdown",
   "metadata": {},
   "source": [
    "### Question 3: What is the correlation between Retweets and Favorites counts?¶\n",
    "From the below visualization, it is evident that the more the retweets, the more it gets visible and hence the higher the favorites count\n",
    "\n",
    "![alt text](correlation.png \"correlation\")"
   ]
  }
 ],
 "metadata": {
  "kernelspec": {
   "display_name": "Python 3",
   "language": "python",
   "name": "python3"
  },
  "language_info": {
   "codemirror_mode": {
    "name": "ipython",
    "version": 3
   },
   "file_extension": ".py",
   "mimetype": "text/x-python",
   "name": "python",
   "nbconvert_exporter": "python",
   "pygments_lexer": "ipython3",
   "version": "3.8.5"
  }
 },
 "nbformat": 4,
 "nbformat_minor": 4
}
